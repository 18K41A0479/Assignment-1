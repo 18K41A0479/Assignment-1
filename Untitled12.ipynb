{
  "nbformat": 4,
  "nbformat_minor": 0,
  "metadata": {
    "colab": {
      "name": "Untitled12.ipynb",
      "provenance": [],
      "authorship_tag": "ABX9TyNA/C1v9VZcOuDggEw4B5zy",
      "include_colab_link": true
    },
    "kernelspec": {
      "name": "python3",
      "display_name": "Python 3"
    }
  },
  "cells": [
    {
      "cell_type": "markdown",
      "metadata": {
        "id": "view-in-github",
        "colab_type": "text"
      },
      "source": [
        "<a href=\"https://colab.research.google.com/github/18K41A0479/Assignment-1/blob/master/Untitled12.ipynb\" target=\"_parent\"><img src=\"https://colab.research.google.com/assets/colab-badge.svg\" alt=\"Open In Colab\"/></a>"
      ]
    },
    {
      "cell_type": "code",
      "metadata": {
        "id": "qkm-AggdVuFT",
        "colab_type": "code",
        "colab": {
          "base_uri": "https://localhost:8080/",
          "height": 51
        },
        "outputId": "056afca8-3f81-40d5-8428-0905e5d6cd4d"
      },
      "source": [
        "year=int(input(\"Enter the year:\"))\n",
        "yr=year%12\n",
        "z={0:\"monkey\",1:\"rooster\",2:\"dog\",3:\"pig\",4:\"rat\",5:\"ox\",6:\"tiger\",7:\"rabbit\",8:\"dragon\",9:\"snake\",10:\"horse\",11:\"sheep\"}\n",
        "print(z[yr])\n"
      ],
      "execution_count": 3,
      "outputs": [
        {
          "output_type": "stream",
          "text": [
            "Enter the year:2001\n",
            "snake\n"
          ],
          "name": "stdout"
        }
      ]
    }
  ]
}