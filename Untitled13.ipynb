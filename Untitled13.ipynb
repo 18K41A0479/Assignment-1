{
  "nbformat": 4,
  "nbformat_minor": 0,
  "metadata": {
    "colab": {
      "name": "Untitled13.ipynb",
      "provenance": [],
      "authorship_tag": "ABX9TyPctD60OnGp+rDwQ4cUPwV/",
      "include_colab_link": true
    },
    "kernelspec": {
      "name": "python3",
      "display_name": "Python 3"
    }
  },
  "cells": [
    {
      "cell_type": "markdown",
      "metadata": {
        "id": "view-in-github",
        "colab_type": "text"
      },
      "source": [
        "<a href=\"https://colab.research.google.com/github/18K41A0479/Assignment-1/blob/master/Untitled13.ipynb\" target=\"_parent\"><img src=\"https://colab.research.google.com/assets/colab-badge.svg\" alt=\"Open In Colab\"/></a>"
      ]
    },
    {
      "cell_type": "code",
      "metadata": {
        "id": "TPWlfJEoaooZ",
        "colab_type": "code",
        "colab": {
          "base_uri": "https://localhost:8080/",
          "height": 68
        },
        "outputId": "c67cb3ab-9e59-468b-82aa-7fd934075b74"
      },
      "source": [
        "d=int(input(\"Distance to be travel:\"))\n",
        "w=int(input(\"Weight of the goods:\"))\n",
        "if d>=500:\n",
        "  if w>=100:\n",
        "    cost=5*d\n",
        "  elif w>=10 and w<100:\n",
        "    cost=6*d\n",
        "  else:\n",
        "    cost=7*d \n",
        "else:\n",
        "  if w>=100:\n",
        "    cost=8*d\n",
        "  else:\n",
        "    cost=5*d  \n",
        "print(\"Amount to be charged:\",cost)"
      ],
      "execution_count": 1,
      "outputs": [
        {
          "output_type": "stream",
          "text": [
            "Distance to be travel:505\n",
            "Weight of the goods:7\n",
            "Amount to be charged: 3535\n"
          ],
          "name": "stdout"
        }
      ]
    },
    {
      "cell_type": "code",
      "metadata": {
        "id": "Yq3zXag4a1RJ",
        "colab_type": "code",
        "colab": {
          "base_uri": "https://localhost:8080/",
          "height": 68
        },
        "outputId": "c53a177d-aff0-4b7c-ddd8-c7369f88930f"
      },
      "source": [
        "k=[\"Stalls\",\"Circle\",\"UpperClass\",\"box\"]\n",
        "s=input(\"Type of seat:\")\n",
        "pm=input(\"Payment mode:\")\n",
        "p=\"cash\"\n",
        "if pm==p:\n",
        "  if s in k[0]:\n",
        "    d=625*(0.1)\n",
        "    c=625-d\n",
        "  elif s in k[1]:\n",
        "    d=750*(0.1)\n",
        "    c=750-d\n",
        "  elif s in k[2]:\n",
        "    d=850*(0.1)\n",
        "    c=850-d\n",
        "  else:\n",
        "    d=1000*(0.1)\n",
        "    c=1000-d\n",
        "else:\n",
        "  if s in k[0]:\n",
        "    d=625*(0.05)\n",
        "    c=625-d\n",
        "  elif s in k[1]:\n",
        "    d=750*(0.05)\n",
        "    c=750-d\n",
        "  elif s in k[2]:\n",
        "    d=850*(0.05)\n",
        "    c=850-d\n",
        "  else:\n",
        "    d=1000*(0.05)\n",
        "    c=1000-d\n",
        "print(c)"
      ],
      "execution_count": 3,
      "outputs": [
        {
          "output_type": "stream",
          "text": [
            "Type of seat:UpperClass\n",
            "Payment mode:cash\n",
            "765.0\n"
          ],
          "name": "stdout"
        }
      ]
    },
    {
      "cell_type": "code",
      "metadata": {
        "id": "0SN1aMgwbU7H",
        "colab_type": "code",
        "colab": {
          "base_uri": "https://localhost:8080/",
          "height": 51
        },
        "outputId": "8af8691a-7a56-4ac1-e302-042c257b8954"
      },
      "source": [
        "\n",
        "mass=int(input(\"Enter Amount of water:\"))\n",
        "q=mass*(100-0)*4184\n",
        "print(\"Energy:\",q)"
      ],
      "execution_count": 4,
      "outputs": [
        {
          "output_type": "stream",
          "text": [
            "Enter Amount of water:7\n",
            "Energy: 2928800\n"
          ],
          "name": "stdout"
        }
      ]
    },
    {
      "cell_type": "code",
      "metadata": {
        "id": "BtPfnq5EbsR9",
        "colab_type": "code",
        "colab": {
          "base_uri": "https://localhost:8080/",
          "height": 51
        },
        "outputId": "46ed87fe-5ea2-4d13-caee-ee6e3457d36a"
      },
      "source": [
        "mon=input(\"Enter the month:\")\n",
        "win=[\"December\",\"January\",\"February\"]\n",
        "spr=[\"March\",\"April\",\"May\"]\n",
        "sum=[\"June\",\"July\",\"August\"]\n",
        "aut=[\"September\",\"October\",\"november\"]\n",
        "if mon in win:\n",
        "  print(\"Winter\")\n",
        "if mon in spr:\n",
        "  print(\"Spring\")\n",
        "elif mon in sum:\n",
        "  print(\"Summer\")\n",
        "elif mon in aut:\n",
        "  print(\"Autumn\")"
      ],
      "execution_count": 6,
      "outputs": [
        {
          "output_type": "stream",
          "text": [
            "Enter the month:March\n",
            "Spring\n"
          ],
          "name": "stdout"
        }
      ]
    },
    {
      "cell_type": "code",
      "metadata": {
        "id": "QXbKdveRcNeo",
        "colab_type": "code",
        "colab": {
          "base_uri": "https://localhost:8080/",
          "height": 85
        },
        "outputId": "5bb45d10-bb3d-4b03-ceb2-ec215d629e4b"
      },
      "source": [
        "weight=float(input(\"Enter the weight:\"))\n",
        "height=float(input(\"Enter the height:\"))\n",
        "weight=weight*0.45359237\n",
        "height=height*0.0254\n",
        "b=weight/(height**2)\n",
        "if b<18.5:\n",
        "  print(\"Underweight\")\n",
        "elif b>=18.5 and b<25.0:\n",
        "  print(\"Normal\")\n",
        "elif b>=25.0 and b<30.0:\n",
        "  print(\"Overweight\")\n",
        "else:\n",
        "  print(\"Obese\") \n",
        "print(\"BMI is:\",b)"
      ],
      "execution_count": 9,
      "outputs": [
        {
          "output_type": "stream",
          "text": [
            "Enter the weight:150\n",
            "Enter the height:59\n",
            "Obese\n",
            "BMI is: 30.296017508151078\n"
          ],
          "name": "stdout"
        }
      ]
    },
    {
      "cell_type": "code",
      "metadata": {
        "id": "k_ZfKAc-cp15",
        "colab_type": "code",
        "colab": {
          "base_uri": "https://localhost:8080/",
          "height": 51
        },
        "outputId": "f7a92fc1-37d4-40ae-8277-32a2db2fdfad"
      },
      "source": [
        "n=int(input(\"Enter number between 100 and 1000:\"))\n",
        "r=0\n",
        "sum=0\n",
        "if(n>=100 and n<=1000):\n",
        "    while n > 0:\n",
        "      r=n%10\n",
        "      sum=sum+r\n",
        "      n=n//10\n",
        "print(\"Sum of all digits in the integer:\",sum)"
      ],
      "execution_count": 10,
      "outputs": [
        {
          "output_type": "stream",
          "text": [
            "Enter number between 100 and 1000:132\n",
            "Sum of all digits in the integer: 6\n"
          ],
          "name": "stdout"
        }
      ]
    },
    {
      "cell_type": "code",
      "metadata": {
        "id": "eyIEFvI2dbbf",
        "colab_type": "code",
        "colab": {
          "base_uri": "https://localhost:8080/",
          "height": 54
        },
        "outputId": "52ead57e-58e9-47b8-cca7-b1e216e10ac9"
      },
      "source": [
        "for n in range(1,1001):\n",
        "  temp=n\n",
        "  rev=0\n",
        "  if(n>=1 and n<=1000):\n",
        "    while temp > 0:\n",
        "      r=temp%10\n",
        "      rev=(rev*10)+r\n",
        "      temp=temp//10\n",
        "    if n==rev:  \n",
        "      print(n ,end=' ')"
      ],
      "execution_count": 11,
      "outputs": [
        {
          "output_type": "stream",
          "text": [
            "1 2 3 4 5 6 7 8 9 11 22 33 44 55 66 77 88 99 101 111 121 131 141 151 161 171 181 191 202 212 222 232 242 252 262 272 282 292 303 313 323 333 343 353 363 373 383 393 404 414 424 434 444 454 464 474 484 494 505 515 525 535 545 555 565 575 585 595 606 616 626 636 646 656 666 676 686 696 707 717 727 737 747 757 767 777 787 797 808 818 828 838 848 858 868 878 888 898 909 919 929 939 949 959 969 979 989 999 "
          ],
          "name": "stdout"
        }
      ]
    },
    {
      "cell_type": "code",
      "metadata": {
        "id": "ck-remM8d-cH",
        "colab_type": "code",
        "colab": {
          "base_uri": "https://localhost:8080/",
          "height": 34
        },
        "outputId": "d44c03fe-eb8b-45b6-d596-b65b35901a2a"
      },
      "source": [
        "#Armstrong numbers between 1 to 1000\n",
        "for n in range(1,1001):\n",
        "  s=0\n",
        "  temp=n\n",
        "  while temp>0:\n",
        "    digit=temp%10\n",
        "    s+=digit**3\n",
        "    temp//=10\n",
        "  if n==s:\n",
        "    print(n,end=\" \")"
      ],
      "execution_count": 16,
      "outputs": [
        {
          "output_type": "stream",
          "text": [
            "1 153 370 371 407 "
          ],
          "name": "stdout"
        }
      ]
    },
    {
      "cell_type": "code",
      "metadata": {
        "id": "d1duy1KYeXV0",
        "colab_type": "code",
        "colab": {
          "base_uri": "https://localhost:8080/",
          "height": 1000
        },
        "outputId": "94ea629f-80ed-46e2-e924-b8b603991177"
      },
      "source": [
        "for i in range(1,101):\n",
        "  if i%3==0 and i%5==0:\n",
        "    print(\"Fizz buzz\")\n",
        "  elif i%5==0:\n",
        "    print(\"buzz\")\n",
        "  elif i%3==0:\n",
        "    print(\"fizz\")\n",
        "  else:\n",
        "    print(i)"
      ],
      "execution_count": 17,
      "outputs": [
        {
          "output_type": "stream",
          "text": [
            "1\n",
            "2\n",
            "fizz\n",
            "4\n",
            "buzz\n",
            "fizz\n",
            "7\n",
            "8\n",
            "fizz\n",
            "buzz\n",
            "11\n",
            "fizz\n",
            "13\n",
            "14\n",
            "Fizz buzz\n",
            "16\n",
            "17\n",
            "fizz\n",
            "19\n",
            "buzz\n",
            "fizz\n",
            "22\n",
            "23\n",
            "fizz\n",
            "buzz\n",
            "26\n",
            "fizz\n",
            "28\n",
            "29\n",
            "Fizz buzz\n",
            "31\n",
            "32\n",
            "fizz\n",
            "34\n",
            "buzz\n",
            "fizz\n",
            "37\n",
            "38\n",
            "fizz\n",
            "buzz\n",
            "41\n",
            "fizz\n",
            "43\n",
            "44\n",
            "Fizz buzz\n",
            "46\n",
            "47\n",
            "fizz\n",
            "49\n",
            "buzz\n",
            "fizz\n",
            "52\n",
            "53\n",
            "fizz\n",
            "buzz\n",
            "56\n",
            "fizz\n",
            "58\n",
            "59\n",
            "Fizz buzz\n",
            "61\n",
            "62\n",
            "fizz\n",
            "64\n",
            "buzz\n",
            "fizz\n",
            "67\n",
            "68\n",
            "fizz\n",
            "buzz\n",
            "71\n",
            "fizz\n",
            "73\n",
            "74\n",
            "Fizz buzz\n",
            "76\n",
            "77\n",
            "fizz\n",
            "79\n",
            "buzz\n",
            "fizz\n",
            "82\n",
            "83\n",
            "fizz\n",
            "buzz\n",
            "86\n",
            "fizz\n",
            "88\n",
            "89\n",
            "Fizz buzz\n",
            "91\n",
            "92\n",
            "fizz\n",
            "94\n",
            "buzz\n",
            "fizz\n",
            "97\n",
            "98\n",
            "fizz\n",
            "buzz\n"
          ],
          "name": "stdout"
        }
      ]
    },
    {
      "cell_type": "code",
      "metadata": {
        "id": "ByxaPsoNesqD",
        "colab_type": "code",
        "colab": {
          "base_uri": "https://localhost:8080/",
          "height": 85
        },
        "outputId": "81c73831-40fb-4b30-d861-f48be0e1579d"
      },
      "source": [
        "height=int(input(\"height:\"))\n",
        "u=int(input(\"u:\"))\n",
        "d=int(input(\"d:\"))\n",
        "y=0\n",
        "while (u-d)*y <=(height-u):\n",
        "    y=y+1\n",
        "print(y+1)"
      ],
      "execution_count": 20,
      "outputs": [
        {
          "output_type": "stream",
          "text": [
            "height:200\n",
            "u:50\n",
            "d:1\n",
            "5\n"
          ],
          "name": "stdout"
        }
      ]
    },
    {
      "cell_type": "code",
      "metadata": {
        "id": "z_ji022ifG_Y",
        "colab_type": "code",
        "colab": {
          "base_uri": "https://localhost:8080/",
          "height": 51
        },
        "outputId": "6e649d16-c908-4927-fce6-1cd22506b7c0"
      },
      "source": [
        "year=int(input(\"Enter the year:\"))\n",
        "yr=year%12\n",
        "z={0:\"monkey\",1:\"rooster\",2:\"dog\",3:\"pig\",4:\"rat\",5:\"ox\",6:\"tiger\",7:\"rabbit\",8:\"dragon\",9:\"snake\",10:\"horse\",11:\"sheep\"}\n",
        "print(z[yr])\n"
      ],
      "execution_count": 21,
      "outputs": [
        {
          "output_type": "stream",
          "text": [
            "Enter the year:2001\n",
            "snake\n"
          ],
          "name": "stdout"
        }
      ]
    },
    {
      "cell_type": "code",
      "metadata": {
        "id": "Nj76rtmJft1E",
        "colab_type": "code",
        "colab": {}
      },
      "source": [
        ""
      ],
      "execution_count": null,
      "outputs": []
    }
  ]
}